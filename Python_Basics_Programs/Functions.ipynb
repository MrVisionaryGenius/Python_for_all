{
  "nbformat": 4,
  "nbformat_minor": 0,
  "metadata": {
    "colab": {
      "provenance": []
    },
    "kernelspec": {
      "name": "python3",
      "display_name": "Python 3"
    },
    "language_info": {
      "name": "python"
    }
  },
  "cells": [
    {
      "cell_type": "markdown",
      "source": [
        "**Write a program to identify if the character is an alphabet or not**"
      ],
      "metadata": {
        "id": "sdX9nEQwJCN1"
      }
    },
    {
      "cell_type": "code",
      "execution_count": 2,
      "metadata": {
        "colab": {
          "base_uri": "https://localhost:8080/"
        },
        "id": "zHL-Pn0_I98v",
        "outputId": "cace90ae-6b15-4879-b336-1ad23d386a31"
      },
      "outputs": [
        {
          "output_type": "stream",
          "name": "stdout",
          "text": [
            "Enter a character$\n",
            "$ is not alphabet\n"
          ]
        }
      ],
      "source": [
        "def alphabet(a):\n",
        "  if a.isalpha():\n",
        "    print(f\"{a} is an alphabet\")\n",
        "  else:\n",
        "    print(f\"{a} is not alphabet\")\n",
        "\n",
        "a = input(\"Enter a character\")\n",
        "alphabet(a)"
      ]
    },
    {
      "cell_type": "markdown",
      "source": [
        "**Write a program to find Number of digits in an integer**\n",
        "\n"
      ],
      "metadata": {
        "id": "_vkDGBofKAtc"
      }
    },
    {
      "cell_type": "code",
      "source": [
        "number = int(input(\"Enter the number: \"))\n",
        "counter = 0\n",
        "list_1 = []\n",
        "for i in range(number):\n",
        "  modu = int(number % 10) #312\n",
        "  list_1.append(modu)\n",
        "  number = int(number / 10) #\n",
        "  counter += 1\n",
        "  if (number/10) == number:\n",
        "    break\n",
        "\n",
        "\n",
        "print(list_1)\n",
        "print(counter)"
      ],
      "metadata": {
        "id": "xSXt8cevKYQ9"
      },
      "execution_count": null,
      "outputs": []
    },
    {
      "cell_type": "markdown",
      "source": [
        "**Write a program to find Factorial of a number <br>\n",
        "5 * 4 * 3 * 2 = 120**"
      ],
      "metadata": {
        "id": "sBkmnGs8KfOl"
      }
    },
    {
      "cell_type": "code",
      "source": [
        "def factorial(num):\n",
        "  if num == 0:\n",
        "    return 1\n",
        "  else:\n",
        "    return num * factorial(num - 1)\n",
        "\n",
        "\n",
        "num = int(input(\"Enter the number: \"))\n",
        "if num < 0:\n",
        "  print(\"Factorial is zero\")\n",
        "else:\n",
        "  res = factorial(num)\n",
        "  print(f\"the {num} of factorial is\",res)"
      ],
      "metadata": {
        "id": "aUwH81L-KpOb"
      },
      "execution_count": null,
      "outputs": []
    },
    {
      "cell_type": "markdown",
      "source": [
        "**Write a program to find Fibonacci series up to n**"
      ],
      "metadata": {
        "id": "eb-M0ZalKuB1"
      }
    },
    {
      "cell_type": "code",
      "source": [
        "def fibo(n):\n",
        "  a = 0\n",
        "  b = 1\n",
        "  if n < 0:\n",
        "    print(\"Incorrect input\")\n",
        "  elif n == 0:\n",
        "    return a\n",
        "  elif n == 1:\n",
        "    return b\n",
        "  else:\n",
        "    for i in range(2, n + 1):\n",
        "      c = a + b\n",
        "      a = b\n",
        "      b = c\n",
        "    return b\n",
        "\n",
        "n = int(input(\"Enter the number: \"))\n",
        "print(fibo(n))"
      ],
      "metadata": {
        "colab": {
          "base_uri": "https://localhost:8080/"
        },
        "id": "e4zxs6c8Ky2K",
        "outputId": "b22384ab-7df5-4cfa-d4c5-fcd5972995a9"
      },
      "execution_count": 3,
      "outputs": [
        {
          "output_type": "stream",
          "name": "stdout",
          "text": [
            "Enter the number: 20\n",
            "6765\n"
          ]
        }
      ]
    }
  ]
}