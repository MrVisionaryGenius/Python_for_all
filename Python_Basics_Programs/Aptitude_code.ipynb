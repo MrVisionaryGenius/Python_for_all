{
  "nbformat": 4,
  "nbformat_minor": 0,
  "metadata": {
    "colab": {
      "provenance": []
    },
    "kernelspec": {
      "name": "python3",
      "display_name": "Python 3"
    },
    "language_info": {
      "name": "python"
    }
  },
  "cells": [
    {
      "cell_type": "markdown",
      "source": [
        "1. Write a program to identify if the character is an alphabet or not"
      ],
      "metadata": {
        "id": "IC5iQ9yxKMX1"
      }
    },
    {
      "cell_type": "code",
      "execution_count": null,
      "metadata": {
        "colab": {
          "base_uri": "https://localhost:8080/"
        },
        "id": "W-uZsSzBJZx-",
        "outputId": "7d6819b8-dd2c-463d-d667-522580cac96e"
      },
      "outputs": [
        {
          "output_type": "stream",
          "name": "stdout",
          "text": [
            "Enter a character$\n",
            "$ is not alphabet\n"
          ]
        }
      ],
      "source": [
        "def alphabet(a):\n",
        "  if a.isalpha():\n",
        "    print(f\"{a} is an alphabet\")\n",
        "  else:\n",
        "    print(f\"{a} is not alphabet\")\n",
        "\n",
        "a = input(\"Enter a character\")\n",
        "alphabet(a)"
      ]
    },
    {
      "cell_type": "code",
      "source": [
        "import re\n",
        "\n",
        "def is_alphabet(char):\n",
        "    if re.match(r'[a-zA-Z]', char):\n",
        "        print(f\"{char} is an alphabet.\")\n",
        "    else:\n",
        "        print(f\"{char} is not an alphabet.\")\n",
        "\n",
        "character = input(\"Enter a character: \")\n",
        "is_alphabet(character)\n"
      ],
      "metadata": {
        "colab": {
          "base_uri": "https://localhost:8080/"
        },
        "id": "ia5GH3I3KK-n",
        "outputId": "7d9982f3-2a49-4169-c641-00c6e94cb1e2"
      },
      "execution_count": null,
      "outputs": [
        {
          "output_type": "stream",
          "name": "stdout",
          "text": [
            "Enter a character: f\n",
            "f is an alphabet.\n"
          ]
        }
      ]
    },
    {
      "cell_type": "code",
      "source": [
        "def is_alphabet(char):\n",
        "    ascii_value = ord(char)\n",
        "    if (ascii_value >= 65 and ascii_value <= 90) or (ascii_value >= 97 and ascii_value <= 122):\n",
        "        print(f\"{char} is an alphabet.\")\n",
        "    else:\n",
        "        print(f\"{char} is not an alphabet.\")\n",
        "\n",
        "character = input(\"Enter a character: \")\n",
        "is_alphabet(character)\n"
      ],
      "metadata": {
        "colab": {
          "base_uri": "https://localhost:8080/"
        },
        "id": "0IT-wZnmKW00",
        "outputId": "2f655601-355b-4eb6-e899-80c6de5b40b0"
      },
      "execution_count": null,
      "outputs": [
        {
          "output_type": "stream",
          "name": "stdout",
          "text": [
            "Enter a character: G\n",
            "G is an alphabet.\n"
          ]
        }
      ]
    },
    {
      "cell_type": "markdown",
      "source": [
        "2. Write a program to find ASCII values of a character <br>\n",
        "Uppercase letters: A-Z have ASCII values from 65 to 90.\n",
        "Lowercase letters: a-z have ASCII values from 97 to 122.\n",
        "Digits: 0-9 have ASCII values from 48 to 57.\n",
        "Special characters: For example, the ASCII value of the exclamation mark (!) is 33, the ASCII value of the dollar sign ($) is 36, and the ASCII value of the percent sign (%) is 37.\n"
      ],
      "metadata": {
        "id": "6-RuzV-0KaJs"
      }
    },
    {
      "cell_type": "code",
      "source": [
        "char = input(\"Enter the alphabet: \")\n",
        "ascii_value = ord(char)\n",
        "print(f\"The ASCII value of {char} is {ascii_value}.\")\n"
      ],
      "metadata": {
        "colab": {
          "base_uri": "https://localhost:8080/"
        },
        "id": "8s8WBL9fK1Bd",
        "outputId": "d60ed49a-775f-4c16-da3d-fd2bbbe74d33"
      },
      "execution_count": null,
      "outputs": [
        {
          "output_type": "stream",
          "name": "stdout",
          "text": [
            "Enter the alphabet: 5\n",
            "The ASCII value of 5 is 53.\n"
          ]
        }
      ]
    },
    {
      "cell_type": "markdown",
      "source": [
        "3. Write a program to find Number of digits in an integer <br>\n"
      ],
      "metadata": {
        "id": "UFeBo0KjLM8l"
      }
    },
    {
      "cell_type": "code",
      "source": [
        "number = int(input(\"Enter the number: \"))\n",
        "counter = 0\n",
        "list_1 = []\n",
        "for i in range(number):\n",
        "  modu = int(number % 10) #312\n",
        "  list_1.append(modu)\n",
        "  number = int(number / 10) #\n",
        "  counter += 1\n",
        "  if (number/10) == number:\n",
        "    break\n",
        "\n",
        "\n",
        "print(list_1)\n",
        "print(counter)"
      ],
      "metadata": {
        "colab": {
          "base_uri": "https://localhost:8080/"
        },
        "id": "MKyWd0wrLWXl",
        "outputId": "0049048d-cb06-4cf8-ceec-af2ebb9d7b28"
      },
      "execution_count": null,
      "outputs": [
        {
          "output_type": "stream",
          "name": "stdout",
          "text": [
            "Enter the number: 20230045545\n",
            "[5, 4, 5, 5, 4, 0, 0, 3, 2, 0, 2]\n",
            "11\n"
          ]
        }
      ]
    },
    {
      "cell_type": "code",
      "source": [
        "def count_digits(number):\n",
        "    count = 0\n",
        "    while number != 0:\n",
        "        number //= 10\n",
        "        count += 1\n",
        "    return count\n",
        "\n",
        "number = int(input(\"Enter an integer: \"))\n",
        "digits = count_digits(number)\n",
        "print(f\"The number of digits in {number} is {digits}.\")\n"
      ],
      "metadata": {
        "id": "1wpBWkC-QrPQ"
      },
      "execution_count": null,
      "outputs": []
    },
    {
      "cell_type": "markdown",
      "source": [
        "4. Write a program to find Factorial of a number <br>\n",
        "5 * 4 * 3 * 2 = 120"
      ],
      "metadata": {
        "id": "0TOaCm7_QM4h"
      }
    },
    {
      "cell_type": "code",
      "source": [
        "def factorial(num):\n",
        "  if num == 0:\n",
        "    return 1\n",
        "  else:\n",
        "    return num * factorial(num - 1)\n",
        "\n",
        "\n",
        "num = int(input(\"Enter the number: \"))\n",
        "if num < 0:\n",
        "  print(\"Factorial is zero\")\n",
        "else:\n",
        "  res = factorial(num)\n",
        "  print(f\"the {num} of factorial is\",res)"
      ],
      "metadata": {
        "colab": {
          "base_uri": "https://localhost:8080/"
        },
        "id": "Sy_QdYAVRDXy",
        "outputId": "4444920c-5c44-4ae4-9427-da0bb91b4166"
      },
      "execution_count": null,
      "outputs": [
        {
          "output_type": "stream",
          "name": "stdout",
          "text": [
            "Enter the number: 5\n",
            "the 5 of factorial is  120\n"
          ]
        }
      ]
    },
    {
      "cell_type": "markdown",
      "source": [
        "5. Write a program to find Fibonacci series up to n\n"
      ],
      "metadata": {
        "id": "FDUprvlk3sMM"
      }
    },
    {
      "cell_type": "code",
      "source": [
        "def fibo(n):\n",
        "  a = 0\n",
        "  b = 1\n",
        "  if n < 0:\n",
        "    print(\"Incorrect input\")\n",
        "  elif n == 0:\n",
        "    return a\n",
        "  elif n == 1:\n",
        "    return b\n",
        "  else:\n",
        "    for i in range(2, n + 1):\n",
        "      c = a + b\n",
        "      a = b\n",
        "      b = c\n",
        "    return b\n",
        "\n",
        "n = int(input(\"Enter the number: \"))\n",
        "print(fibo(n))"
      ],
      "metadata": {
        "colab": {
          "base_uri": "https://localhost:8080/"
        },
        "id": "cmBIshOD3vcS",
        "outputId": "2c767196-888d-41b0-c541-a46dd8685c1d"
      },
      "execution_count": null,
      "outputs": [
        {
          "output_type": "stream",
          "name": "stdout",
          "text": [
            "Enter the number: 20\n",
            "6765\n"
          ]
        }
      ]
    },
    {
      "cell_type": "code",
      "source": [
        "def fibo_gen(n):\n",
        "  a, b = 0, 1\n",
        "  while a < n:\n",
        "    yield a\n",
        "    a, b = b, a + b\n",
        "\n",
        "n = int(input(\"Enter the number: \"))\n",
        "result = list(fibo_gen(n))\n",
        "print(result)\n"
      ],
      "metadata": {
        "colab": {
          "base_uri": "https://localhost:8080/"
        },
        "id": "Vh-hZ4eY7B-i",
        "outputId": "4ea13266-0328-4d0f-bcd8-4caa625dc8b9"
      },
      "execution_count": null,
      "outputs": [
        {
          "output_type": "stream",
          "name": "stdout",
          "text": [
            "Enter the number: 20\n",
            "[0, 1, 1, 2, 3, 5, 8, 13]\n"
          ]
        }
      ]
    },
    {
      "cell_type": "markdown",
      "source": [
        "6. Write a program to identify of the a number is positive or negative"
      ],
      "metadata": {
        "id": "dd1Xmoyy88H3"
      }
    },
    {
      "cell_type": "code",
      "source": [
        "num = int(input(\"Enter any number:\"))\n",
        "if num > 0:\n",
        "  print(\"It is a positive number\")\n",
        "else:\n",
        "  print(\"It is a negative number\")"
      ],
      "metadata": {
        "colab": {
          "base_uri": "https://localhost:8080/"
        },
        "id": "KP85FNKBsENk",
        "outputId": "3d8b054f-dfe8-465e-a921-1b9b5176f2dd"
      },
      "execution_count": null,
      "outputs": [
        {
          "output_type": "stream",
          "name": "stdout",
          "text": [
            "Enter any number:-3\n",
            "It is a negative number\n"
          ]
        }
      ]
    },
    {
      "cell_type": "code",
      "source": [
        "arr = [10,20,-30,40,-50]\n",
        "\n",
        "for i in arr:\n",
        "  if i > 0:\n",
        "   print(i,\"is a positive number\")\n",
        "  else:\n",
        "   print(i,\"is is a negative number\")"
      ],
      "metadata": {
        "colab": {
          "base_uri": "https://localhost:8080/"
        },
        "id": "NL-emdRvtU0J",
        "outputId": "e6bd4cea-e092-4fd3-8e9e-4153ae76479e"
      },
      "execution_count": null,
      "outputs": [
        {
          "output_type": "stream",
          "name": "stdout",
          "text": [
            "10 is a positive number\n",
            "20 is a positive number\n",
            "-30 It is a negative number\n",
            "40 is a positive number\n",
            "-50 It is a negative number\n"
          ]
        }
      ]
    },
    {
      "cell_type": "markdown",
      "source": [
        "7. Write a program to identify if the number is even or odd"
      ],
      "metadata": {
        "id": "ZOJXBU7YuPol"
      }
    },
    {
      "cell_type": "code",
      "source": [
        "num = int(input(\"Enter the number\"))\n",
        "if num % 2 == 0:\n",
        "  print(\"even number\")\n",
        "else:\n",
        "  print(\"Odd number\")"
      ],
      "metadata": {
        "colab": {
          "base_uri": "https://localhost:8080/"
        },
        "id": "jb8vA8bBuTiH",
        "outputId": "58b0b8b6-ce51-42da-8941-a3299b6d5c83"
      },
      "execution_count": null,
      "outputs": [
        {
          "output_type": "stream",
          "name": "stdout",
          "text": [
            "Enter the number9\n",
            "Odd number\n"
          ]
        }
      ]
    },
    {
      "cell_type": "markdown",
      "source": [
        "8. Write a program to find Area of a circle\n"
      ],
      "metadata": {
        "id": "gDJnd3t0uuoJ"
      }
    },
    {
      "cell_type": "code",
      "source": [
        "import math\n",
        "\n",
        "radius = int(input(\"Enter the Radius of the circle:\"))\n",
        "area = math.pi * radius ** 2\n",
        "print(area)"
      ],
      "metadata": {
        "colab": {
          "base_uri": "https://localhost:8080/"
        },
        "id": "4e0iX-tluZNd",
        "outputId": "e8b29352-3ffd-4855-e592-cd62149d5c87"
      },
      "execution_count": null,
      "outputs": [
        {
          "output_type": "stream",
          "name": "stdout",
          "text": [
            "Enter the Radius of the circle:5\n",
            "78.53981633974483\n"
          ]
        }
      ]
    },
    {
      "cell_type": "code",
      "source": [
        "import math\n",
        "radius = int(input(\"Enter the Radius of the circle:\"))\n",
        "#area = math.pi * radius ** 2\n",
        "print(math.pi * radius ** 2)"
      ],
      "metadata": {
        "colab": {
          "base_uri": "https://localhost:8080/"
        },
        "id": "JPG-7EDDvvww",
        "outputId": "0f78c3bf-8d8e-4d10-c9fc-cb259ac2d955"
      },
      "execution_count": null,
      "outputs": [
        {
          "output_type": "stream",
          "name": "stdout",
          "text": [
            "Enter the Radius of the circle:5\n",
            "78.53981633974483\n"
          ]
        }
      ]
    },
    {
      "cell_type": "markdown",
      "source": [
        "9. Write a program to find Sum of digits of a number"
      ],
      "metadata": {
        "id": "zb9aBsD8wDuc"
      }
    },
    {
      "cell_type": "code",
      "source": [
        "num = int(input(\"Enter the number\"))\n",
        "#n = int(input(\"Enter the length of your number\"))\n",
        "sum = 0\n",
        "\n",
        "while num > 0:\n",
        "  temp = num % 10\n",
        "  sum = sum + temp\n",
        "  num = num // 10\n",
        "\n",
        "print(sum, \"of your digits\")\n"
      ],
      "metadata": {
        "colab": {
          "base_uri": "https://localhost:8080/"
        },
        "id": "B3DGozfHwEgw",
        "outputId": "a639fc82-69ab-4f2a-ade4-386f98f29085"
      },
      "execution_count": null,
      "outputs": [
        {
          "output_type": "stream",
          "name": "stdout",
          "text": [
            "Enter the number1\n",
            "1 of your digits\n"
          ]
        }
      ]
    },
    {
      "cell_type": "code",
      "source": [
        "def sum_of_digits(number):\n",
        "    digit_sum = 0\n",
        "\n",
        "    # Convert the number to a string\n",
        "    number_str = str(number)\n",
        "\n",
        "    # Iterate through each digit in the number\n",
        "    for digit in number_str:\n",
        "        # Convert the digit back to an integer and add it to the sum\n",
        "        digit_sum += int(digit)\n",
        "\n",
        "    return digit_sum\n",
        "\n",
        "# Example usage\n",
        "number = 12345\n",
        "result = sum_of_digits(number)\n",
        "print(\"The sum of digits in\", number, \"is:\", result)\n"
      ],
      "metadata": {
        "id": "IRPcTfB9yWoA"
      },
      "execution_count": null,
      "outputs": []
    },
    {
      "cell_type": "code",
      "source": [
        "num = int(input(\"Enter the number\"))\n",
        "num_str = str(num)\n",
        "#n = int(input(\"Enter the length of your number\"))\n",
        "sum = 0\n",
        "\n",
        "for i in num_str:\n",
        "  temp = num % 10\n",
        "  sum = sum + temp\n",
        "  num = num // 10\n",
        "\n",
        "print(sum, \"of your digits\")\n"
      ],
      "metadata": {
        "colab": {
          "base_uri": "https://localhost:8080/"
        },
        "id": "qX9Bp91Ays7z",
        "outputId": "7ea49f15-1085-4e2f-ce9d-8d5361b0bfd8"
      },
      "execution_count": null,
      "outputs": [
        {
          "output_type": "stream",
          "name": "stdout",
          "text": [
            "Enter the number212\n",
            "5 of your digits\n"
          ]
        }
      ]
    },
    {
      "cell_type": "markdown",
      "source": [
        "10. Write a program to find Sum of N natural numbers\n"
      ],
      "metadata": {
        "id": "Rb2jnKkkKAES"
      }
    },
    {
      "cell_type": "code",
      "source": [
        "num = int(input(\"Enter the number\"))\n",
        "i = 1\n",
        "sum = 0\n",
        "for i in range(num + 1):\n",
        "  sum = sum + i\n",
        "\n",
        "print(sum)\n"
      ],
      "metadata": {
        "colab": {
          "base_uri": "https://localhost:8080/"
        },
        "id": "-VTHqdVAKEU0",
        "outputId": "a6ae316b-5ed8-4029-9526-765d225c4303"
      },
      "execution_count": null,
      "outputs": [
        {
          "output_type": "stream",
          "name": "stdout",
          "text": [
            "Enter the number10\n",
            "55\n"
          ]
        }
      ]
    },
    {
      "cell_type": "markdown",
      "source": [
        "With formula"
      ],
      "metadata": {
        "id": "n8shjO1qLhZj"
      }
    },
    {
      "cell_type": "code",
      "source": [
        "n = int(input(\"Enter the number\"))\n",
        "# sum = n * (n+1)/2\n",
        "print(int(n * (n+1)/2))"
      ],
      "metadata": {
        "colab": {
          "base_uri": "https://localhost:8080/"
        },
        "id": "07wfJxbjLkGg",
        "outputId": "86f55749-8eda-4fdd-f4e6-2a32a2ef0752"
      },
      "execution_count": null,
      "outputs": [
        {
          "output_type": "stream",
          "name": "stdout",
          "text": [
            "Enter the number10\n",
            "55\n"
          ]
        }
      ]
    },
    {
      "cell_type": "markdown",
      "source": [
        "12. Write a program to find Sum of numbers in a given range"
      ],
      "metadata": {
        "id": "o1gBATS-Mzxr"
      }
    },
    {
      "cell_type": "code",
      "source": [
        "num1 = int(input(\"Enter the range 1: \"))\n",
        "num2 = int(input(\"Enter the range 2: \"))\n",
        "\n",
        "n = num2 - num1 + 1\n",
        "sum = n * (num1 + num2)/2\n",
        "print(sum)"
      ],
      "metadata": {
        "colab": {
          "base_uri": "https://localhost:8080/"
        },
        "id": "dfpGRIuxM27a",
        "outputId": "888a920d-d4dd-49c8-8c15-351cc4eb56c2"
      },
      "execution_count": null,
      "outputs": [
        {
          "output_type": "stream",
          "name": "stdout",
          "text": [
            "Enter the range 1: 150\n",
            "Enter the range 2: 200\n",
            "8925.0\n"
          ]
        }
      ]
    },
    {
      "cell_type": "markdown",
      "source": [
        "13. Write a program to reverse a given number"
      ],
      "metadata": {
        "id": "NLKQsG9NPei4"
      }
    },
    {
      "cell_type": "code",
      "source": [
        "num = input(\"Enter the number\")\n",
        "n = len(num)\n",
        "number = int(num)\n",
        "\n",
        "arr = []\n",
        "i = 1\n",
        "while i<=n:\n",
        "  no = int(number % 10)\n",
        "  #arr.append(no)\n",
        "  print(no,end=\"\")\n",
        "  number = int(number / 10)\n",
        "  i+=1\n",
        "\n",
        "#print(arr)\n"
      ],
      "metadata": {
        "colab": {
          "base_uri": "https://localhost:8080/"
        },
        "id": "4Y0CUBO2NJFy",
        "outputId": "a439083e-c73e-41bd-f2ff-b8e27356fc4f"
      },
      "execution_count": null,
      "outputs": [
        {
          "output_type": "stream",
          "name": "stdout",
          "text": [
            "Enter the number123\n",
            "321"
          ]
        }
      ]
    },
    {
      "cell_type": "markdown",
      "source": [
        "14. Write a program to find LCM of two numbers"
      ],
      "metadata": {
        "id": "68bFsgbvVjlM"
      }
    },
    {
      "cell_type": "code",
      "source": [],
      "metadata": {
        "id": "f5Zk99C6Pl0C"
      },
      "execution_count": null,
      "outputs": []
    },
    {
      "cell_type": "markdown",
      "source": [
        "15. Write a program to identify if the number is Strong number or not"
      ],
      "metadata": {
        "id": "fH6yI0T9aBcN"
      }
    },
    {
      "cell_type": "code",
      "source": [
        "def fact(n):\n",
        "    if n == 0 or n == 1:\n",
        "        return 1\n",
        "    else:\n",
        "        return n * fact(n - 1)\n",
        "\n",
        "num = input(\"Enter the Number: \")\n",
        "n_temp = len(num)\n",
        "number = int(num)\n",
        "original_number = number  # Store the original number\n",
        "sum = 0\n",
        "i = 1\n",
        "while i <= n_temp:\n",
        "    n = number % 10\n",
        "    sum += fact(n)\n",
        "    number = number // 10\n",
        "    i += 1\n",
        "\n",
        "if sum == original_number:  # Compare with the original number\n",
        "    print(\"It is a Strong number\")\n",
        "else:\n",
        "    print(\"Not a Strong number\")\n"
      ],
      "metadata": {
        "colab": {
          "base_uri": "https://localhost:8080/"
        },
        "id": "6hfEsU2xaDS1",
        "outputId": "49d5f760-010a-47b4-b5a9-6dca1e7c8719"
      },
      "execution_count": null,
      "outputs": [
        {
          "output_type": "stream",
          "name": "stdout",
          "text": [
            "Enter the Number: 145\n",
            "It is a Strong number\n"
          ]
        }
      ]
    },
    {
      "cell_type": "markdown",
      "source": [
        "16. Write a program to find Power of a number"
      ],
      "metadata": {
        "id": "DfCvwJbsIHoU"
      }
    },
    {
      "cell_type": "code",
      "source": [
        "def power(base,exponent):\n",
        "  return base ** exponent\n",
        "\n",
        "\n",
        "base = int(input(\"Enter the base number: \"))\n",
        "exponent = int(input(\"Enter the Exponent number: \"))\n",
        "\n",
        "print(f\"{base}^{exponent} =  {power(base,exponent)} is the power of the Number\")"
      ],
      "metadata": {
        "id": "IO6Nlf0MbLFO",
        "colab": {
          "base_uri": "https://localhost:8080/"
        },
        "outputId": "66569825-0cad-4c87-d04f-e64ce5600638"
      },
      "execution_count": null,
      "outputs": [
        {
          "output_type": "stream",
          "name": "stdout",
          "text": [
            "Enter the base number: 3\n",
            "Enter the Exponent number: 2\n",
            "3^2 =  9 is the power of the Number\n"
          ]
        }
      ]
    },
    {
      "cell_type": "markdown",
      "source": [
        "17. Write a program to identify if the number is Armstrong number or not"
      ],
      "metadata": {
        "id": "Cn1nWJf1KnwA"
      }
    },
    {
      "cell_type": "code",
      "source": [
        "def armstrong(num):\n",
        "  number = num\n",
        "  n = str(number)\n",
        "  leng = len(n)\n",
        "  temp = 0\n",
        "  sum = 0\n",
        "  i = 0\n",
        "  while i<=leng:\n",
        "    temp = num % 10\n",
        "    #print(temp,end=\" \")\n",
        "    temp2 = power(temp,leng)\n",
        "    sum = sum + temp2\n",
        "    num = num // 10\n",
        "    i+=1\n",
        "  print(sum)\n",
        "  return sum\n",
        "\n",
        "\n",
        "def power(temp,leng):\n",
        "  return temp ** leng\n",
        "\n",
        "\n",
        "\n",
        "num = int(input(\"Enter the number: \"))\n",
        "temp_checking = armstrong(num)\n",
        "if num == temp_checking:\n",
        "  print(\" It is an armstrong number\")\n",
        "else:\n",
        "  print(\"It is not an armstrong number\")\n",
        "\n",
        "\n",
        "\n",
        "\n"
      ],
      "metadata": {
        "colab": {
          "base_uri": "https://localhost:8080/"
        },
        "id": "apKsYAMIJFCJ",
        "outputId": "c33d8b41-7480-4125-9996-8e642e0dddb1"
      },
      "execution_count": null,
      "outputs": [
        {
          "output_type": "stream",
          "name": "stdout",
          "text": [
            "Enter the number: 153\n",
            "153\n",
            " It is an armstrong number\n"
          ]
        }
      ]
    }
  ]
}